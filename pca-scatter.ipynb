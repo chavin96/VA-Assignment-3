{
 "cells": [
  {
   "cell_type": "code",
   "execution_count": 4,
   "metadata": {},
   "outputs": [],
   "source": [
    "import pandas as pd\n",
    "import plotly.express as px\n",
    "from sklearn.feature_extraction.text import TfidfVectorizer\n",
    "from sklearn.decomposition import PCA\n",
    "\n",
    "# Load the cleaned tweets dataset\n",
    "tweets_df = pd.read_csv('tweets_no_stopwords.csv')\n",
    "\n",
    "# Ensure 'cleaned_text_no_stopwords' column exists and is filled\n",
    "tweets_df['cleaned_text_no_stopwords'] = tweets_df['cleaned_text_no_stopwords'].fillna('')\n",
    "tweets_df['cleaned_text_no_stopwords'] = tweets_df['cleaned_text_no_stopwords'].astype(str)\n",
    "\n",
    "tweets_df['candidate'] = tweets_df['handle'].apply(lambda x: 'Trump' if 'trump' in x.lower() else 'Hillary')\n",
    "\n",
    "# Step 1: Convert the 'cleaned_text_no_stopwords' into TF-IDF vectors\n",
    "vectorizer = TfidfVectorizer(max_features=500)\n",
    "# vectorizer = TfidfVectorizer(max_features=6000)\n",
    "tfidf_matrix = vectorizer.fit_transform(tweets_df['cleaned_text_no_stopwords'])\n",
    "\n",
    "# Step 2: Use PCA to reduce dimensions for visualization purposes\n",
    "pca = PCA(n_components=2, random_state=42)\n",
    "reduced_data = pca.fit_transform(tfidf_matrix.toarray())\n",
    "\n",
    "# Add the reduced data back to the dataframe for visualization\n",
    "tweets_df['pca_x'] = reduced_data[:, 0]\n",
    "tweets_df['pca_y'] = reduced_data[:, 1]\n",
    "\n",
    "# Step 3: Create an interactive scatter plot using Plotly\n",
    "fig = px.scatter(\n",
    "    tweets_df,\n",
    "    x='pca_x', \n",
    "    y='pca_y',\n",
    "    color='candidate',  # Color points based on the candidate (Trump or Hillary)\n",
    "    color_discrete_map={'Trump': 'red', 'Hillary': 'blue'},  # Use red for Trump, blue for Hillary\n",
    "    hover_data=['cleaned_text'],  # Show the tweet content on hover\n",
    "    title='Interactive Scatter Plot of Tweets',\n",
    "    labels={'pca_x': 'Principal Component 1', 'pca_y': 'Principal Component 2'},\n",
    "    width=1920,\n",
    "    height=1080\n",
    ")\n",
    "\n",
    "# Customize the layout for better readability\n",
    "fig.update_traces(marker=dict(size=6, opacity=0.6))\n",
    "fig.update_layout(\n",
    "    hovermode='closest',\n",
    "    title_x=0.5,\n",
    "    xaxis_title='Principal Component 1',\n",
    "    yaxis_title='Principal Component 2',\n",
    "    template='plotly_white'\n",
    ")\n",
    "\n",
    "# Display the interactive plot\n",
    "# fig.show()\n",
    "fig.write_html('scatter_plot_pca.html')"
   ]
  }
 ],
 "metadata": {
  "kernelspec": {
   "display_name": ".venv",
   "language": "python",
   "name": "python3"
  },
  "language_info": {
   "codemirror_mode": {
    "name": "ipython",
    "version": 3
   },
   "file_extension": ".py",
   "mimetype": "text/x-python",
   "name": "python",
   "nbconvert_exporter": "python",
   "pygments_lexer": "ipython3",
   "version": "3.12.6"
  }
 },
 "nbformat": 4,
 "nbformat_minor": 2
}
