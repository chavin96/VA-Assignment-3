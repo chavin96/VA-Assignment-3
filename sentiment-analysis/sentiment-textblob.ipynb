{
 "cells": [
  {
   "cell_type": "code",
   "execution_count": null,
   "metadata": {},
   "outputs": [],
   "source": [
    "import pandas as pd\n",
    "from textblob import TextBlob\n",
    "\n",
    "# Load the dataset containing themes\n",
    "tweets_df = pd.read_csv('../datasets/tweets_with_themes.csv')\n",
    "\n",
    "# Function to calculate sentiment and score using TextBlob\n",
    "def calculate_sentiment(text):\n",
    "    polarity_score = TextBlob(text).sentiment.polarity\n",
    "    # Determine sentiment category based on polarity score\n",
    "    if polarity_score > 0.05:\n",
    "        sentiment = 'Positive'\n",
    "    elif polarity_score < -0.05:\n",
    "        sentiment = 'Negative'\n",
    "    else:\n",
    "        sentiment = 'Neutral'\n",
    "    return sentiment, polarity_score\n",
    "\n",
    "# Apply sentiment calculation to each tweet's cleaned text\n",
    "tweets_df[['sentiment', 'sentiment_score']] = tweets_df['cleaned_text'].apply(\n",
    "    lambda text: pd.Series(calculate_sentiment(text))\n",
    ")\n",
    "\n",
    "# Save the updated DataFrame with sentiment scores and categories\n",
    "tweets_df.to_csv('../datasets/tweets_with_themes_and_sentiment.csv', index=False)\n"
   ]
  }
 ],
 "metadata": {
  "kernelspec": {
   "display_name": ".venv",
   "language": "python",
   "name": "python3"
  },
  "language_info": {
   "codemirror_mode": {
    "name": "ipython",
    "version": 3
   },
   "file_extension": ".py",
   "mimetype": "text/x-python",
   "name": "python",
   "nbconvert_exporter": "python",
   "pygments_lexer": "ipython3",
   "version": "3.12.6"
  }
 },
 "nbformat": 4,
 "nbformat_minor": 2
}
