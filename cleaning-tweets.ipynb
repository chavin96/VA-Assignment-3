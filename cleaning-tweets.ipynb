{
    "cells": [
        {
            "cell_type": "code",
            "execution_count": 1,
            "metadata": {},
            "outputs": [
                {
                    "name": "stdout",
                    "output_type": "stream",
                    "text": [
                        "CSV file loaded successfully.\n",
                        "'text' column found, proceeding with cleaning.\n",
                        "Filtered file saved successfully as 'tweets_cleaned2.csv'.\n"
                    ]
                }
            ],
            "source": [
                "import pandas as pd\n",
                "import re\n",
                "\n",
                "try:\n",
                "    df = pd.read_csv('tweets.csv')\n",
                "    print(\"CSV file loaded successfully.\")\n",
                "except FileNotFoundError:\n",
                "    print(\"The file path is incorrect or the file does not exist.\")\n",
                "except pd.errors.EmptyDataError:\n",
                "    print(\"The file is empty.\")\n",
                "except Exception as e:\n",
                "    print(f\"An error occurred: {e}\")\n",
                "\n",
                "if 'text' in df.columns:\n",
                "    print(\"'text' column found, proceeding with cleaning.\")\n",
                "    \n",
                "    def clean_text(text):\n",
                "        # Remove URLs\n",
                "        text = re.sub(r'http\\S+|www\\S+|https\\S+', '', text, flags=re.MULTILINE)\n",
                "        # Convert to lowercase\n",
                "        text = text.lower()\n",
                "        # Remove numbers\n",
                "        text = re.sub(r'\\d+', '', text)\n",
                "        # Remove special characters (keeping only letters and spaces)\n",
                "        text = re.sub(r'[^a-z\\s]', '', text)\n",
                "        return text.strip()  # Remove any extra spaces at the beginning or end\n",
                "\n",
                "    df['cleaned_text'] = df['text'].apply(clean_text)\n",
                "\n",
                "    # Filter out rows where 'cleaned_text' is empty or has only a single letter\n",
                "    df = df[~df['cleaned_text'].str.match(r'^\\s*$|^[a-zA-Z]$', na=False)]\n",
                "    \n",
                "    # Save the updated DataFrame back to a CSV file\n",
                "    df.to_csv('tweets_cleaned.csv', index=False)\n",
                "    print(\"Filtered file saved successfully as 'tweets_cleaned.csv'.\")\n",
                "else:\n",
                "    print(\"'text' column not found in the CSV file. Please check the column name.\")\n"
            ]
        }
    ],
    "metadata": {
        "kernelspec": {
            "display_name": ".venv",
            "language": "python",
            "name": "python3"
        },
        "language_info": {
            "codemirror_mode": {
                "name": "ipython",
                "version": 3
            },
            "file_extension": ".py",
            "mimetype": "text/x-python",
            "name": "python",
            "nbconvert_exporter": "python",
            "pygments_lexer": "ipython3",
            "version": "3.12.6"
        }
    },
    "nbformat": 4,
    "nbformat_minor": 2
}
