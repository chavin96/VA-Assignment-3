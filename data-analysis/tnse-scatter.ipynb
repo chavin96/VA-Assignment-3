{
 "cells": [
  {
   "cell_type": "code",
   "execution_count": null,
   "metadata": {},
   "outputs": [
    {
     "name": "stderr",
     "output_type": "stream",
     "text": [
      "/Users/chavinw/Desktop/VA-Assignment 3/.venv/lib/python3.12/site-packages/sklearn/manifold/_t_sne.py:1162: FutureWarning:\n",
      "\n",
      "'n_iter' was renamed to 'max_iter' in version 1.5 and will be removed in 1.7.\n",
      "\n"
     ]
    }
   ],
   "source": [
    "import pandas as pd\n",
    "import plotly.express as px\n",
    "from sklearn.feature_extraction.text import TfidfVectorizer\n",
    "from sklearn.manifold import TSNE\n",
    "\n",
    "tweets_df = pd.read_csv('../datasets/tweets_no_stopwords.csv')\n",
    "\n",
    "tweets_df['cleaned_text_no_stopwords'] = tweets_df['cleaned_text_no_stopwords'].fillna('')\n",
    "tweets_df['cleaned_text_no_stopwords'] = tweets_df['cleaned_text_no_stopwords'].astype(str)\n",
    "\n",
    "tweets_df['candidate'] = tweets_df['handle'].apply(lambda x: 'Trump' if 'trump' in x.lower() else 'Hillary')\n",
    "\n",
    "# Convert the 'cleaned_text_no_stopwords' into TF-IDF vectors\n",
    "vectorizer = TfidfVectorizer(max_features=50)\n",
    "tfidf_matrix = vectorizer.fit_transform(tweets_df['cleaned_text_no_stopwords'])\n",
    "\n",
    "# Use t-SNE to reduce dimensions for visualization purposes\n",
    "tsne = TSNE(n_components=2, random_state=42, perplexity=30, n_iter=3000)\n",
    "reduced_data = tsne.fit_transform(tfidf_matrix.toarray())\n",
    "\n",
    "# Add the reduced data back to the dataframe for visualization\n",
    "tweets_df['tsne_x'] = reduced_data[:, 0]\n",
    "tweets_df['tsne_y'] = reduced_data[:, 1]\n",
    "\n",
    "# Create an interactive scatter plot using Plotly\n",
    "fig = px.scatter(\n",
    "    tweets_df,\n",
    "    x='tsne_x', \n",
    "    y='tsne_y',\n",
    "    color='candidate',\n",
    "    color_discrete_map={'Trump': 'red', 'Hillary': 'blue'},\n",
    "    hover_data=['cleaned_text', 'candidate'],  # Add more metadata to hover\n",
    "    title='Scatter Plot of Tweets Using t-SNE',\n",
    "    labels={'tsne_x': 't-SNE Component 1', 'tsne_y': 't-SNE Component 2'},\n",
    "    width=1920,\n",
    "    height=1080\n",
    ")\n",
    "\n",
    "# Customize the layout for better readability and add lasso select\n",
    "fig.update_traces(marker=dict(size=6, opacity=0.6), selector=dict(mode='markers'))\n",
    "fig.update_layout(\n",
    "    hovermode='closest',\n",
    "    title_x=0.5,\n",
    "    xaxis_title='t-SNE Component 1',\n",
    "    yaxis_title='t-SNE Component 2',\n",
    "    template='plotly_white'\n",
    ")\n",
    "\n",
    "fig.update_layout(dragmode='lasso')\n",
    "\n",
    "fig.write_html('../theme-selection-scatter-plot/scatter_plot_tnse.html')\n"
   ]
  }
 ],
 "metadata": {
  "kernelspec": {
   "display_name": ".venv",
   "language": "python",
   "name": "python3"
  },
  "language_info": {
   "codemirror_mode": {
    "name": "ipython",
    "version": 3
   },
   "file_extension": ".py",
   "mimetype": "text/x-python",
   "name": "python",
   "nbconvert_exporter": "python",
   "pygments_lexer": "ipython3",
   "version": "3.12.6"
  }
 },
 "nbformat": 4,
 "nbformat_minor": 2
}
