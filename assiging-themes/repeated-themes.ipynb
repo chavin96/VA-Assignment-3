{
 "cells": [
  {
   "cell_type": "code",
   "execution_count": 1,
   "metadata": {},
   "outputs": [
    {
     "name": "stdout",
     "output_type": "stream",
     "text": [
      "Updated file saved at: tweets_with_themes_expanded.csv\n"
     ]
    }
   ],
   "source": [
    "import pandas as pd\n",
    "import re\n",
    "\n",
    "# Load the cleaned tweets dataset\n",
    "tweets_df = pd.read_csv('../datasets/tweets_no_stopwords.csv')\n",
    "\n",
    "# Ensure 'cleaned_text_no_stopwords' column exists and is filled\n",
    "tweets_df['cleaned_text_no_stopwords'] = tweets_df['cleaned_text_no_stopwords'].fillna('')\n",
    "tweets_df['cleaned_text_no_stopwords'] = tweets_df['cleaned_text_no_stopwords'].astype(str)\n",
    "\n",
    "# Define themes and their associated keywords\n",
    "theme_keywords = {\n",
    "    \"Economy\": [\"tax\", \"money\", \"economy\", \"jobs\", \"wage\"],\n",
    "    \"Families\": [\"families\", \"kids\", \"children\", \"parents\"],\n",
    "    \"Foreign Policy\": [\"immigration\", \"foreign policy\", \"border\"],\n",
    "    \"Women\": [\"women\", \"rights\", \"gender\"]\n",
    "}\n",
    "\n",
    "# Function to assign multiple themes based on the presence of keywords\n",
    "def assign_themes(text):\n",
    "    assigned_themes = []\n",
    "    for theme, keywords in theme_keywords.items():\n",
    "        if any(keyword in text.lower() for keyword in keywords):\n",
    "            assigned_themes.append(theme)\n",
    "    # If no themes were matched, assign 'Other'\n",
    "    return assigned_themes if assigned_themes else [\"Other\"]\n",
    "\n",
    "# Apply the function to assign themes to the tweets, allowing for multiple themes\n",
    "tweets_df['themes'] = tweets_df['cleaned_text_no_stopwords'].apply(assign_themes)\n",
    "\n",
    "# Create a new column 'is_repeated' to indicate if a tweet has multiple themes\n",
    "tweets_df['is_repeated'] = tweets_df['themes'].apply(lambda x: 'Yes' if len(x) > 1 else 'No')\n",
    "\n",
    "# Expand the themes into multiple rows for each tweet-theme combination\n",
    "expanded_df = tweets_df.explode('themes')\n",
    "\n",
    "# Save the expanded DataFrame for further analysis or use in Tableau\n",
    "expanded_df.to_csv('../datasets/tweets_with_themes_expanded.csv', index=False)\n"
   ]
  }
 ],
 "metadata": {
  "kernelspec": {
   "display_name": ".venv",
   "language": "python",
   "name": "python3"
  },
  "language_info": {
   "codemirror_mode": {
    "name": "ipython",
    "version": 3
   },
   "file_extension": ".py",
   "mimetype": "text/x-python",
   "name": "python",
   "nbconvert_exporter": "python",
   "pygments_lexer": "ipython3",
   "version": "3.12.6"
  }
 },
 "nbformat": 4,
 "nbformat_minor": 2
}
