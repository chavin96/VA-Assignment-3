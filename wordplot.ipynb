{
 "cells": [
  {
   "cell_type": "code",
   "execution_count": null,
   "metadata": {},
   "outputs": [],
   "source": [
    "import pandas as pd\n",
    "import matplotlib.pyplot as plt\n",
    "from wordcloud import WordCloud\n",
    "\n",
    "# Load the word frequencies dataset\n",
    "word_freq_df = pd.read_csv('word_frequencies_no_stopwords.csv')\n",
    "\n",
    "# Step 1A: Generate a Word Cloud\n",
    "def generate_wordcloud(df, column, count_column):\n",
    "    # Create a dictionary of words and their counts\n",
    "    word_counts = dict(zip(df[column], df[count_column]))\n",
    "    \n",
    "    # Generate the word cloud\n",
    "    wordcloud = WordCloud(width=1600, height=1200, background_color='white').generate_from_frequencies(word_counts)\n",
    "    \n",
    "    # Plot the word cloud using Matplotlib\n",
    "    plt.figure(figsize=(20, 15))\n",
    "    plt.imshow(wordcloud, interpolation='bilinear')\n",
    "    plt.axis('off')\n",
    "    plt.title('Word Cloud of Most Frequent Words')\n",
    "    plt.show()\n",
    "\n",
    "    top_20_words = df.sort_values(by=count_column, ascending=False).head(20)\n",
    "    print(\"\\nTop 20 Words:\")\n",
    "    print(top_20_words[[column, count_column]])\n",
    "\n",
    "# Call the function to generate the word cloud\n",
    "generate_wordcloud(word_freq_df, 'word', 'count')\n"
   ]
  }
 ],
 "metadata": {
  "kernelspec": {
   "display_name": ".venv",
   "language": "python",
   "name": "python3"
  },
  "language_info": {
   "codemirror_mode": {
    "name": "ipython",
    "version": 3
   },
   "file_extension": ".py",
   "mimetype": "text/x-python",
   "name": "python",
   "nbconvert_exporter": "python",
   "pygments_lexer": "ipython3",
   "version": "3.12.6"
  }
 },
 "nbformat": 4,
 "nbformat_minor": 2
}
